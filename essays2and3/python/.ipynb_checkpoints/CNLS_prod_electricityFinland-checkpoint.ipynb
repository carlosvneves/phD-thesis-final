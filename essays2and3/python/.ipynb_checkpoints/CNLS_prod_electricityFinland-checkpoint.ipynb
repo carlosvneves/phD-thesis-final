{
 "cells": [
  {
   "cell_type": "markdown",
   "metadata": {
    "id": "VcTj2zJDaByV"
   },
   "source": [
    "# Additive production function"
   ]
  },
  {
   "cell_type": "markdown",
   "metadata": {
    "id": "zG7z34wQaByb"
   },
   "source": [
    "Hildreth (1954) was the first to consider nonparametric regression subject to monotonicity and concavity constraints in the case of a single input variable $x$. Kuosmanen (2008) extended Hildreth’s approach to the multivariate setting with a vector-valued $\\bf{x}$, and coined the term convex nonparametric least squares (`CNLS`) for this method. `CNLS` builds upon the assumption that the true but unknown production function $f$ belongs to the set of continuous, monotonic increasing and globally concave functions, imposing exactly the same production axioms as standard DEA. "
   ]
  },
  {
   "cell_type": "markdown",
   "metadata": {
    "id": "zHpUpPLGaByb"
   },
   "source": [
    "The multivariate `CNLS` formulation is defined as:\n",
    "\n",
    "\\begin{align*}\n",
    "& \\underset{\\alpha, \\beta, \\varepsilon} {min} \\sum_{i=1}^n\\varepsilon_i^2 \\\\\n",
    "& \\text{s.t.} \\\\\n",
    "&  y_i = \\alpha_i + \\beta_i^{'}X_i + \\varepsilon_i \\quad \\forall i \\\\\n",
    "&  \\alpha_i + \\beta_i^{'}X_i \\le \\alpha_j + \\beta_j^{'}X_i  \\quad  \\forall i, j\\\\\n",
    "&  \\beta_i \\ge 0 \\quad  \\forall i \\\\\n",
    "\\end{align*}"
   ]
  },
  {
   "cell_type": "markdown",
   "metadata": {
    "id": "xZWQ3beSaByc"
   },
   "source": [
    "where $\\alpha_i$ and $\\beta_i$ define the intercept and slope parameters of tangent hyperplanes that characterize the estimated piece-wise linear frontier. $\\varepsilon_i$ denotes the CNLS residuals. The first constraint can be interpreted as a multivariate regression equation, the second constraint imposes convexity, and the third constraint imposes monotonicity."
   ]
  },
  {
   "cell_type": "code",
   "execution_count": 1,
   "metadata": {
    "colab": {
     "base_uri": "https://localhost:8080/"
    },
    "executionInfo": {
     "elapsed": 22990,
     "status": "ok",
     "timestamp": 1613740251908,
     "user": {
      "displayName": "Carlos Neves",
      "photoUrl": "https://lh3.googleusercontent.com/a-/AOh14GihshcT2wuy7yXjgWLBeelOeKy5RDKiFor8TL8ZqA=s64",
      "userId": "12912154966366425425"
     },
     "user_tz": 180
    },
    "id": "RFkWOnyFaXNK",
    "outputId": "8d1cebee-4b90-48a5-859c-f93c67f812c4"
   },
   "outputs": [],
   "source": [
    "#! pip install pymo\r",
    "#\n",
    "#! pip install pystone\n",
    "# fix jedi\n",
    "%config Completer.use_jedi = False"
   ]
  },
  {
   "cell_type": "code",
   "execution_count": 2,
   "metadata": {
    "executionInfo": {
     "elapsed": 2895,
     "status": "ok",
     "timestamp": 1613740285668,
     "user": {
      "displayName": "Carlos Neves",
      "photoUrl": "https://lh3.googleusercontent.com/a-/AOh14GihshcT2wuy7yXjgWLBeelOeKy5RDKiFor8TL8ZqA=s64",
      "userId": "12912154966366425425"
     },
     "user_tz": 180
    },
    "id": "o5-jXJG7aByd"
   },
   "outputs": [],
   "source": [
    "# import packages\n",
    "from pystoned import CNLS\n",
    "from pystoned import StoNED\n",
    "import pandas as pd\n",
    "import numpy as np\n"
   ]
  },
  {
   "cell_type": "code",
   "execution_count": 3,
   "metadata": {
    "colab": {
     "base_uri": "https://localhost:8080/",
     "height": 206
    },
    "executionInfo": {
     "elapsed": 1613,
     "status": "ok",
     "timestamp": 1613740394752,
     "user": {
      "displayName": "Carlos Neves",
      "photoUrl": "https://lh3.googleusercontent.com/a-/AOh14GihshcT2wuy7yXjgWLBeelOeKy5RDKiFor8TL8ZqA=s64",
      "userId": "12912154966366425425"
     },
     "user_tz": 180
    },
    "id": "Qztfr37MaBye",
    "outputId": "f4610ed0-7dc3-4fb1-f9b3-a539f917baed"
   },
   "outputs": [
    {
     "data": {
      "text/html": [
       "<div>\n",
       "<style scoped>\n",
       "    .dataframe tbody tr th:only-of-type {\n",
       "        vertical-align: middle;\n",
       "    }\n",
       "\n",
       "    .dataframe tbody tr th {\n",
       "        vertical-align: top;\n",
       "    }\n",
       "\n",
       "    .dataframe thead th {\n",
       "        text-align: right;\n",
       "    }\n",
       "</style>\n",
       "<table border=\"1\" class=\"dataframe\">\n",
       "  <thead>\n",
       "    <tr style=\"text-align: right;\">\n",
       "      <th></th>\n",
       "      <th>OPEX</th>\n",
       "      <th>CAPEX</th>\n",
       "      <th>TOTEX</th>\n",
       "      <th>Energy</th>\n",
       "      <th>Length</th>\n",
       "      <th>Customers</th>\n",
       "      <th>PerUndGr</th>\n",
       "    </tr>\n",
       "  </thead>\n",
       "  <tbody>\n",
       "    <tr>\n",
       "      <th>0</th>\n",
       "      <td>681</td>\n",
       "      <td>729</td>\n",
       "      <td>1612</td>\n",
       "      <td>75</td>\n",
       "      <td>878</td>\n",
       "      <td>4933</td>\n",
       "      <td>0.11</td>\n",
       "    </tr>\n",
       "    <tr>\n",
       "      <th>1</th>\n",
       "      <td>559</td>\n",
       "      <td>673</td>\n",
       "      <td>1659</td>\n",
       "      <td>62</td>\n",
       "      <td>964</td>\n",
       "      <td>6149</td>\n",
       "      <td>0.21</td>\n",
       "    </tr>\n",
       "    <tr>\n",
       "      <th>2</th>\n",
       "      <td>836</td>\n",
       "      <td>851</td>\n",
       "      <td>1708</td>\n",
       "      <td>78</td>\n",
       "      <td>676</td>\n",
       "      <td>6098</td>\n",
       "      <td>0.75</td>\n",
       "    </tr>\n",
       "    <tr>\n",
       "      <th>3</th>\n",
       "      <td>7559</td>\n",
       "      <td>8384</td>\n",
       "      <td>18918</td>\n",
       "      <td>683</td>\n",
       "      <td>12522</td>\n",
       "      <td>55226</td>\n",
       "      <td>0.13</td>\n",
       "    </tr>\n",
       "    <tr>\n",
       "      <th>4</th>\n",
       "      <td>424</td>\n",
       "      <td>562</td>\n",
       "      <td>1167</td>\n",
       "      <td>27</td>\n",
       "      <td>697</td>\n",
       "      <td>1670</td>\n",
       "      <td>0.03</td>\n",
       "    </tr>\n",
       "  </tbody>\n",
       "</table>\n",
       "</div>"
      ],
      "text/plain": [
       "   OPEX  CAPEX  TOTEX  Energy  Length  Customers  PerUndGr\n",
       "0   681    729   1612      75     878       4933      0.11\n",
       "1   559    673   1659      62     964       6149      0.21\n",
       "2   836    851   1708      78     676       6098      0.75\n",
       "3  7559   8384  18918     683   12522      55226      0.13\n",
       "4   424    562   1167      27     697       1670      0.03"
      ]
     },
     "execution_count": 3,
     "metadata": {},
     "output_type": "execute_result"
    }
   ],
   "source": [
    "# import Finnish electricity distribution firms data\n",
    "url = 'https://raw.githubusercontent.com/carlosvneves/pyStoNED/master/pystoned/data/electricityFirms.csv'\n",
    "df = pd.read_csv(url, error_bad_lines=False)\n",
    "#df.to_csv(\"firms.csv\")\n",
    "df.head(5)"
   ]
  },
  {
   "cell_type": "code",
   "execution_count": 4,
   "metadata": {
    "executionInfo": {
     "elapsed": 3358,
     "status": "ok",
     "timestamp": 1613740410335,
     "user": {
      "displayName": "Carlos Neves",
      "photoUrl": "https://lh3.googleusercontent.com/a-/AOh14GihshcT2wuy7yXjgWLBeelOeKy5RDKiFor8TL8ZqA=s64",
      "userId": "12912154966366425425"
     },
     "user_tz": 180
    },
    "id": "MQt0Yq50aByf"
   },
   "outputs": [],
   "source": [
    "# output\n",
    "y = df['Energy']\n",
    "\n",
    "# inputs\n",
    "x1 = df['OPEX']\n",
    "x1 = np.asmatrix(x1).T\n",
    "x2 = df['CAPEX']\n",
    "x2 = np.asmatrix(x2).T\n",
    "x = np.concatenate((x1, x2), axis=1)"
   ]
  },
  {
   "cell_type": "code",
   "execution_count": 5,
   "metadata": {
    "executionInfo": {
     "elapsed": 1653,
     "status": "ok",
     "timestamp": 1613740416745,
     "user": {
      "displayName": "Carlos Neves",
      "photoUrl": "https://lh3.googleusercontent.com/a-/AOh14GihshcT2wuy7yXjgWLBeelOeKy5RDKiFor8TL8ZqA=s64",
      "userId": "12912154966366425425"
     },
     "user_tz": 180
    },
    "id": "RV-j0TxNaByg"
   },
   "outputs": [],
   "source": [
    "# Necessário para utilizar os solvers do servidor NEOS\n",
    "from pyomo import environ as pym\n",
    "import os\n",
    "\n",
    "# provide an email address\n",
    "os.environ['NEOS_EMAIL'] = 'carlos.vneves@gmail.com'\n",
    "solver_manager = pym.SolverManagerFactory('neos')\n"
   ]
  },
  {
   "cell_type": "code",
   "execution_count": 6,
   "metadata": {
    "colab": {
     "base_uri": "https://localhost:8080/"
    },
    "executionInfo": {
     "elapsed": 9377,
     "status": "ok",
     "timestamp": 1613740429100,
     "user": {
      "displayName": "Carlos Neves",
      "photoUrl": "https://lh3.googleusercontent.com/a-/AOh14GihshcT2wuy7yXjgWLBeelOeKy5RDKiFor8TL8ZqA=s64",
      "userId": "12912154966366425425"
     },
     "user_tz": 180
    },
    "id": "2FhOS48eaByg",
    "outputId": "0d653e63-acb1-404e-94f3-9341b665fdd0"
   },
   "outputs": [
    {
     "name": "stdout",
     "output_type": "stream",
     "text": [
      "Estimating the additive model remotely with mosek solver\n"
     ]
    }
   ],
   "source": [
    "# define and solve the CNLS model\n",
    "model = CNLS.CNLS(y, x, z=None, cet = \"addi\", fun = \"prod\", rts = \"vrs\")\n",
    "model.optimize(remote=True)"
   ]
  },
  {
   "cell_type": "code",
   "execution_count": 8,
   "metadata": {
    "executionInfo": {
     "elapsed": 2732,
     "status": "ok",
     "timestamp": 1613740458720,
     "user": {
      "displayName": "Carlos Neves",
      "photoUrl": "https://lh3.googleusercontent.com/a-/AOh14GihshcT2wuy7yXjgWLBeelOeKy5RDKiFor8TL8ZqA=s64",
      "userId": "12912154966366425425"
     },
     "user_tz": 180
    },
    "id": "uaPX_NP_aByl"
   },
   "outputs": [],
   "source": [
    "# store the beta \n",
    "beta = model.get_beta()\n",
    "# production df\n",
    "prod_df = pd.DataFrame(data=[beta[:,0],beta[:,1]])\n",
    "prod_df = prod_df.transpose()\n",
    "prod_df.columns = [\"Labor\",\"Capital\"]\n",
    "elasticity = prod_df[\"Labor\"]/prod_df[\"Capital\"]\n",
    "prod_df.insert(2,\"Elasticity\",elasticity)"
   ]
  },
  {
   "cell_type": "code",
   "execution_count": 9,
   "metadata": {
    "colab": {
     "base_uri": "https://localhost:8080/",
     "height": 300
    },
    "executionInfo": {
     "elapsed": 2528,
     "status": "ok",
     "timestamp": 1613740462642,
     "user": {
      "displayName": "Carlos Neves",
      "photoUrl": "https://lh3.googleusercontent.com/a-/AOh14GihshcT2wuy7yXjgWLBeelOeKy5RDKiFor8TL8ZqA=s64",
      "userId": "12912154966366425425"
     },
     "user_tz": 180
    },
    "id": "K7_3Ga2baByl",
    "outputId": "ebe14403-9c27-4680-d53c-62ed5fd13962"
   },
   "outputs": [
    {
     "data": {
      "text/html": [
       "<div>\n",
       "<style scoped>\n",
       "    .dataframe tbody tr th:only-of-type {\n",
       "        vertical-align: middle;\n",
       "    }\n",
       "\n",
       "    .dataframe tbody tr th {\n",
       "        vertical-align: top;\n",
       "    }\n",
       "\n",
       "    .dataframe thead th {\n",
       "        text-align: right;\n",
       "    }\n",
       "</style>\n",
       "<table border=\"1\" class=\"dataframe\">\n",
       "  <thead>\n",
       "    <tr style=\"text-align: right;\">\n",
       "      <th></th>\n",
       "      <th>Labor</th>\n",
       "      <th>Capital</th>\n",
       "      <th>Elasticity</th>\n",
       "    </tr>\n",
       "  </thead>\n",
       "  <tbody>\n",
       "    <tr>\n",
       "      <th>count</th>\n",
       "      <td>89.000000</td>\n",
       "      <td>8.900000e+01</td>\n",
       "      <td>8.900000e+01</td>\n",
       "    </tr>\n",
       "    <tr>\n",
       "      <th>mean</th>\n",
       "      <td>0.134317</td>\n",
       "      <td>9.223978e-03</td>\n",
       "      <td>6.234241e+05</td>\n",
       "    </tr>\n",
       "    <tr>\n",
       "      <th>std</th>\n",
       "      <td>0.009383</td>\n",
       "      <td>9.373868e-03</td>\n",
       "      <td>4.434300e+06</td>\n",
       "    </tr>\n",
       "    <tr>\n",
       "      <th>min</th>\n",
       "      <td>0.075317</td>\n",
       "      <td>3.201399e-09</td>\n",
       "      <td>9.897574e-01</td>\n",
       "    </tr>\n",
       "    <tr>\n",
       "      <th>25%</th>\n",
       "      <td>0.134069</td>\n",
       "      <td>8.067175e-03</td>\n",
       "      <td>1.192376e+01</td>\n",
       "    </tr>\n",
       "    <tr>\n",
       "      <th>50%</th>\n",
       "      <td>0.134642</td>\n",
       "      <td>8.113079e-03</td>\n",
       "      <td>1.652946e+01</td>\n",
       "    </tr>\n",
       "    <tr>\n",
       "      <th>75%</th>\n",
       "      <td>0.135787</td>\n",
       "      <td>1.138187e-02</td>\n",
       "      <td>1.662218e+01</td>\n",
       "    </tr>\n",
       "    <tr>\n",
       "      <th>max</th>\n",
       "      <td>0.160275</td>\n",
       "      <td>7.609636e-02</td>\n",
       "      <td>4.134197e+07</td>\n",
       "    </tr>\n",
       "  </tbody>\n",
       "</table>\n",
       "</div>"
      ],
      "text/plain": [
       "           Labor       Capital    Elasticity\n",
       "count  89.000000  8.900000e+01  8.900000e+01\n",
       "mean    0.134317  9.223978e-03  6.234241e+05\n",
       "std     0.009383  9.373868e-03  4.434300e+06\n",
       "min     0.075317  3.201399e-09  9.897574e-01\n",
       "25%     0.134069  8.067175e-03  1.192376e+01\n",
       "50%     0.134642  8.113079e-03  1.652946e+01\n",
       "75%     0.135787  1.138187e-02  1.662218e+01\n",
       "max     0.160275  7.609636e-02  4.134197e+07"
      ]
     },
     "execution_count": 9,
     "metadata": {},
     "output_type": "execute_result"
    }
   ],
   "source": [
    "prod_df.describe()\n"
   ]
  },
  {
   "cell_type": "code",
   "execution_count": 12,
   "metadata": {},
   "outputs": [],
   "source": [
    "def SqB1Test(eps, n):\n",
    "    \"\"\"docstring\"\"\"\n",
    "    Flag = 0\n",
    "    # Calculate the first and second moments for each observation\n",
    "    M2 = np.power(eps, 2)\n",
    "    M3 = np.power(eps, 3)\n",
    "    # calculate the average moment\n",
    "    mM2 = np.mean(M2)\n",
    "    mM3 = np.mean(M3)\n",
    "\n",
    "    if 0 < mM3:\n",
    "        mM3 = -0.0001\n",
    "        Flag = 1\n",
    "\n",
    "    teststat = mM3 / (mM2 ** (3 / 2))\n",
    "\n",
    "    m = 1000\n",
    "\n",
    "    S = np.zeros(n)\n",
    "    teststatt = np.zeros(m)\n",
    "    # Calculates the number of time a test statistic calculate from random\n",
    "    # draws from a normal distribution is more negative the the one\n",
    "    # calculated from the data set\n",
    "    Flag1 = 0\n",
    "    for j in range(m):\n",
    "        for i in range(n):\n",
    "            S[i] = np.random.normal(0, np.sqrt(mM2))\n",
    "\n",
    "        M2t = np.power(S, 2)\n",
    "        M3t = np.power(S, 3)\n",
    "        mM2t = np.sum(M2t / (n - 1))\n",
    "        mM3t = np.sum(M3t / (n - 1))\n",
    "        teststatt[j] = mM3t / (mM2t) ** (3 / 2)\n",
    "        if teststatt[j] < teststat:\n",
    "            Flag1 = Flag1 + 1\n",
    "\n",
    "    Pvalue = Flag1 / m\n",
    "\n",
    "    return [teststat, teststatt, Pvalue, Flag]"
   ]
  },
  {
   "cell_type": "code",
   "execution_count": null,
   "metadata": {},
   "outputs": [],
   "source": [
    "eps = model.get_residual()\n",
    "n = df.shape[0]\n",
    "\n",
    "teststat, teststatt, Pvalue, Flag = SqB1Test(eps, n)"
   ]
  },
  {
   "cell_type": "code",
   "execution_count": 35,
   "metadata": {
    "colab": {
     "base_uri": "https://localhost:8080/",
     "height": 283
    },
    "executionInfo": {
     "elapsed": 2804,
     "status": "ok",
     "timestamp": 1613740530249,
     "user": {
      "displayName": "Carlos Neves",
      "photoUrl": "https://lh3.googleusercontent.com/a-/AOh14GihshcT2wuy7yXjgWLBeelOeKy5RDKiFor8TL8ZqA=s64",
      "userId": "12912154966366425425"
     },
     "user_tz": 180
    },
    "id": "Ko6dBbGqbet3",
    "outputId": "4e286278-ea6a-4486-8d34-9d5d5844a26c"
   },
   "outputs": [
    {
     "data": {
      "image/png": "[encoded data removed]",
      "text/plain": [
       "<Figure size 432x288 with 1 Axes>"
      ]
     },
     "metadata": {
      "needs_background": "light"
     },
     "output_type": "display_data"
    }
   ],
   "source": [
    "model.plot2d(0)"
   ]
  },
  {
   "cell_type": "code",
   "execution_count": 36,
   "metadata": {
    "colab": {
     "base_uri": "https://localhost:8080/",
     "height": 283
    },
    "executionInfo": {
     "elapsed": 1707,
     "status": "ok",
     "timestamp": 1613740587454,
     "user": {
      "displayName": "Carlos Neves",
      "photoUrl": "https://lh3.googleusercontent.com/a-/AOh14GihshcT2wuy7yXjgWLBeelOeKy5RDKiFor8TL8ZqA=s64",
      "userId": "12912154966366425425"
     },
     "user_tz": 180
    },
    "id": "_hH1qxnVbn9B",
    "outputId": "5984b43e-de92-43ba-c9b4-ceb59c6a90ba"
   },
   "outputs": [
    {
     "data": {
      "image/png": "[encoded data removed]",
      "text/plain": [
       "<Figure size 432x288 with 1 Axes>"
      ]
     },
     "metadata": {
      "needs_background": "light"
     },
     "output_type": "display_data"
    }
   ],
   "source": [
    "model.plot2d(1)"
   ]
  },
  {
   "cell_type": "code",
   "execution_count": 37,
   "metadata": {
    "id": "83fNCZHIaByl",
    "outputId": "fb16f14f-60bd-460e-f52d-dda2feb614cb"
   },
   "outputs": [
    {
     "data": {
      "text/plain": [
       "array([  -2.80240381,    1.41402777,  -22.22372818, -350.91100176,\n",
       "        -13.6999609 ,  101.01488018,  -28.87235435,  -14.03971006,\n",
       "         -0.84744719,   56.89433966,  285.50687685,  679.38388004,\n",
       "        -20.22999891,  -70.0078944 ,   10.50653405,   74.59736472,\n",
       "         -6.53894432,  -30.0764184 ,  -40.13473224,  -27.77782961,\n",
       "         48.75948545,   87.00803179,   22.48064958,   23.95075962,\n",
       "         -2.14168692,  -22.83658369,  -37.86102619, -351.07096459,\n",
       "         66.85756746,  -21.7027737 ,   -8.95128679,  216.00600021,\n",
       "         37.59738633,  -31.81144673,  -23.7846804 , -201.34122344,\n",
       "        -69.29030253,    6.26874936,    3.7557954 ,  -74.60738277,\n",
       "         -1.97477455,  -11.97092905, -236.74630143,    6.57458432,\n",
       "         11.6568901 ,  -20.00404969,  -67.21455797,   -5.23917601,\n",
       "        -55.94692024,  265.51409949,    1.92413572,  -17.65077967,\n",
       "          4.65631533,   38.85436425,   -2.9033091 ,  349.52826746,\n",
       "        163.99052735,   35.00137264,   28.39295978,  -99.13212711,\n",
       "         32.788748  , -604.03985161,  197.1010354 ,   21.41106635,\n",
       "        -26.75536044,  -15.12974769,   29.38419306, -128.27099026,\n",
       "        -16.44512245,  -13.38625595, -293.86157997,   -2.55058089,\n",
       "        476.61958736,   -9.80358856,   32.08950099,  -17.24132951,\n",
       "        114.76792795,   -3.85152253,   35.39619299,  -62.93735291,\n",
       "          8.91937664,  349.39725563,  -80.69961188, -604.75814127,\n",
       "        -59.83970071,    6.71833399,    6.17363536,   -6.06110404,\n",
       "         -0.88514862])"
      ]
     },
     "execution_count": 37,
     "metadata": {},
     "output_type": "execute_result"
    }
   ],
   "source": [
    "# store the residual\n",
    "eps = model.get_residual()\n",
    "eps"
   ]
  },
  {
   "cell_type": "markdown",
   "metadata": {
    "id": "B72QjuOvaBym"
   },
   "source": [
    "## Compute Efficiency"
   ]
  },
  {
   "cell_type": "code",
   "execution_count": 38,
   "metadata": {},
   "outputs": [
    {
     "data": {
      "text/plain": [
       "array([ 0.102752  ,  0.08187627,  0.12855663,  0.60346354,  0.05652114,\n",
       "        0.2221113 ,  0.09687172,  0.21406138,  0.12701551,  0.17699275,\n",
       "        0.73838427,  0.89706305,  0.1680476 ,  0.23180665,  0.84088913,\n",
       "        0.32985508,  0.06796185,  0.1182104 ,  0.13068752,  0.29463155,\n",
       "        0.17911569,  0.14259896, -0.0081327 ,  0.40635773,  0.07507116,\n",
       "        0.14780928,  0.14245724,  0.66291287,  0.0763296 ,  0.21557055,\n",
       "        0.10764154,  0.32290327,  0.27862219,  0.26008785,  0.15306593,\n",
       "        0.34970082,  0.26127764,  0.08943828,  0.05064671,  0.45033278,\n",
       "        0.40266522,  0.04895457,  0.68387961,  0.10348965,  0.115071  ,\n",
       "        0.062127  ,  0.45237406,  0.03169676,  0.35317152,  0.53334846,\n",
       "        0.05174871,  0.26156708,  0.12079766,  0.31273283,  0.10523463,\n",
       "        0.48642628,  0.25944103,  0.12267662,  0.13892053,  0.24134926,\n",
       "       -0.01613644,  0.70089954,  0.44823086,  0.34420684,  0.15197778,\n",
       "        0.07881854,  0.23406525,  0.4554713 ,  0.2936542 ,  0.32652261,\n",
       "        0.73608427,  0.28480973,  0.63410333,  0.06445111,  0.15635338,\n",
       "        0.23889234,  0.60167828,  0.03254111,  0.52523429,  0.34379412,\n",
       "        0.15862075,  0.57828087,  0.29966453,  0.88879226,  0.35248893,\n",
       "        0.0303735 ,  0.03388228,  0.03006818,  0.13483933])"
      ]
     },
     "execution_count": 38,
     "metadata": {},
     "output_type": "execute_result"
    }
   ],
   "source": [
    "ubenchmark = max(eps)\n",
    "yhat = model.get_frontier()\n",
    "# The purpose of this line is to impose monotonicity\n",
    "uCNLS = ubenchmark - eps\n",
    "# The purpose of this line is to impose monotonicity by\n",
    "phiC2NLS = yhat + ubenchmark\n",
    "# Farrel efficiency scores\n",
    "thetaC2NLS = yhat / phiC2NLS\n",
    "thetaC2NLS"
   ]
  },
  {
   "cell_type": "code",
   "execution_count": 46,
   "metadata": {},
   "outputs": [
    {
     "name": "stdout",
     "output_type": "stream",
     "text": [
      "Estimating the multiplicative model remotely with knitro solver\n"
     ]
    }
   ],
   "source": [
    "# define and solve the StoNED model using KDE approach\n",
    "model = StoNED.StoNED(y, x, z=None, cet = \"mult\", fun = \"prod\", rts = \"crs\")\n",
    "model.optimize(remote=True)"
   ]
  },
  {
   "cell_type": "code",
   "execution_count": 47,
   "metadata": {},
   "outputs": [
    {
     "name": "stdout",
     "output_type": "stream",
     "text": [
      "[0.79115618 0.79129043 0.75495508 0.74621016 0.65083565 0.88057966\n",
      " 0.67047614 0.80847677 0.80425138 0.86734675 0.8517687  0.84347579\n",
      " 0.78476346 0.73494993 0.82545016 0.85928139 0.73877611 0.70935542\n",
      " 0.68940082 0.80972365 0.86256698 0.8898373  0.83824498 0.8395088\n",
      " 0.77016024 0.76798184 0.72028194 0.76683842 0.89355548 0.79976668\n",
      " 0.77498206 0.89190876 0.84785151 0.7994054  0.77171415 0.64211969\n",
      " 0.75781266 0.80903413 0.77031716 0.80730455 0.83104265 0.63216739\n",
      " 0.79948252 0.81400621 0.82570969 0.61176988 0.81076866 0.61589336\n",
      " 0.80081549 0.8735632  0.76211849 0.81287177 0.81450473 0.84763076\n",
      " 0.79057911 0.88804788 0.89236428 0.85620514 0.85004327 0.68520394\n",
      " 0.90651537 0.72902155 0.87420492 0.83976152 0.76222725 0.71094634\n",
      " 0.84574058 0.78530096 0.81720721 0.82249751 0.79778422 0.8256819\n",
      " 0.87794072 0.70860192 0.85143816 0.80932903 0.85061108 0.64443408\n",
      " 0.8396146  0.79447259 0.8272738  0.8754599  0.76377593 0.80498836\n",
      " 0.79818256 0.75285169 0.7569803  0.58870975 0.80737017]\n"
     ]
    }
   ],
   "source": [
    "# retrive the technical inefficiency\n",
    "print(model.get_technical_inefficiency(method='MOM'))"
   ]
  },
  {
   "cell_type": "markdown",
   "metadata": {
    "id": "IgqTQIB7aBym"
   },
   "source": [
    "\n",
    "# Stage 2: Shift the residuals analogous to the COLS procedure.\n"
   ]
  },
  {
   "cell_type": "code",
   "execution_count": null,
   "metadata": {
    "id": "twVqLjxAaBym",
    "outputId": "7e4ad366-9ca0-43e1-b7ba-c225ec93e7a5"
   },
   "outputs": [
    {
     "name": "stdout",
     "output_type": "stream",
     "text": [
      "[ -682.18628511  -677.96986146  -701.60760106 -1030.29488943\n",
      "  -693.08386584  -578.36898271  -708.25624145  -693.42357163\n",
      "  -680.23132996  -622.48952174  -393.87700961     0.\n",
      "  -699.61386855  -749.39175365  -668.87734898  -604.78650271\n",
      "  -685.9228403   -709.46030647  -719.51861485  -707.1616937\n",
      "  -630.62437904  -592.37583086  -656.90327703  -655.43310796\n",
      "  -681.52558101  -702.22045664  -717.24489682 -1030.45485178\n",
      "  -612.52632857  -701.08663425  -688.33517213  -463.37785393\n",
      "  -641.78647473  -711.19530615  -703.16854252  -880.72508909\n",
      "  -748.67416813  -673.11513674  -675.62810673  -753.99125594\n",
      "  -681.35864648  -691.35483223  -916.13018849  -672.80929741\n",
      "  -667.72698945  -699.38795009  -746.59843653  -684.62308616\n",
      "  -735.33078839  -413.86978863  -677.4597699   -697.03464298\n",
      "  -674.72756185  -640.52950626  -682.2871953   -329.85562089\n",
      "  -515.39334023  -644.38250679  -650.99090406  -778.51598826\n",
      "  -646.5951829  -1283.42373843  -482.28284144  -657.9728073\n",
      "  -706.13922979  -694.51363847  -649.99967093  -807.65486882\n",
      "  -695.82898344  -692.77012398  -973.2454663   -681.93444239\n",
      "  -202.76430018  -689.18748872  -647.2943649   -696.62519616\n",
      "  -564.61596058  -683.23543783  -643.98769514  -742.32122308\n",
      "  -670.4644886   -329.98663222  -760.08347777 -1284.14202208\n",
      "  -739.2235685   -672.66557864  -673.21027417  -685.44501487\n",
      "  -680.26902541]\n"
     ]
    }
   ],
   "source": [
    "# print the shifted residuals\n",
    "print(model.get_adjusted_residual())"
   ]
  },
  {
   "cell_type": "code",
   "execution_count": null,
   "metadata": {
    "id": "msQxpiL8aByn",
    "outputId": "cb7e029e-4acb-42e4-ebbb-23b440b382bd"
   },
   "outputs": [
    {
     "name": "stdout",
     "output_type": "stream",
     "text": [
      "[656.44808501 656.39723366 656.52009067 712.84491409 656.44560224\n",
      " 661.62997038 656.46313587 661.5889756  656.48069516 661.51304559\n",
      " 768.46025157 770.23520741 656.54882497 661.57462015 781.75383201\n",
      " 661.71321265 656.41901724 656.46672502 656.47674187 661.70191818\n",
      " 662.09506163 658.23718322 654.11799673 661.75197363 656.42625322\n",
      " 656.53930526 656.53769011 712.84515946 656.4199673  661.58108175\n",
      " 656.47590169 783.67720692 661.67247371 661.60764647 659.73046538\n",
      " 661.71706838 661.67993533 656.41899586 656.39371692 661.75582399\n",
      " 661.72244564 656.39154969 712.84562339 656.46240914 656.49014089\n",
      " 656.44101005 661.74698564 656.39245734 661.71744942 712.83613593\n",
      " 656.44162697 661.67646466 656.50874906 661.72237838 656.47144292\n",
      " 701.69550337 664.99682883 656.50140803 657.28888668 661.61623664\n",
      " 654.8415828  712.84527752 661.75514817 665.53130252 656.54972822\n",
      " 656.41790912 661.65732012 661.75917125 661.69527337 661.71259702\n",
      " 712.8452461  661.68778051 712.84561934 656.41201337 656.59480114\n",
      " 664.55287761 767.96520876 656.4395532  712.84275395 661.71693882\n",
      " 656.61047734 712.84435974 661.70529995 795.08308244 661.71705077\n",
      " 656.38246039 656.39087233 656.38945366 656.52360301]\n"
     ]
    }
   ],
   "source": [
    "\n",
    "\n",
    "# print the shifted intercept\n",
    "print(model.get_adjusted_alpha())\n",
    "\n"
   ]
  },
  {
   "cell_type": "code",
   "execution_count": null,
   "metadata": {
    "id": "9lw-gSueaByn"
   },
   "outputs": [],
   "source": []
  }
 ],
 "metadata": {
  "colab": {
   "name": "CNLS_prod.ipynb",
   "provenance": []
  },
  "kernelspec": {
   "display_name": "Python 3",
   "language": "python",
   "name": "python3"
  },
  "language_info": {
   "codemirror_mode": {
    "name": "ipython",
    "version": 3
   },
   "file_extension": ".py",
   "mimetype": "text/x-python",
   "name": "python",
   "nbconvert_exporter": "python",
   "pygments_lexer": "ipython3",
   "version": "3.8.6"
  }
 },
 "nbformat": 4,
 "nbformat_minor": 4
}
