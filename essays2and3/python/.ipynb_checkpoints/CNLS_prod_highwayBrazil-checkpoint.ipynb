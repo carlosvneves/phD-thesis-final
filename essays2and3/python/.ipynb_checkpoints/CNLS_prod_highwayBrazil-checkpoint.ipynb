{
 "cells": [
  {
   "cell_type": "markdown",
   "metadata": {
    "id": "VcTj2zJDaByV"
   },
   "source": [
    "# Multiplicative production function"
   ]
  },
  {
   "cell_type": "markdown",
   "metadata": {},
   "source": [
    "Most SFA studies use Cobb-Douglas or translog functional forms where inefficiency and noise affect production in a multiplicative fashion. Note that the assumption of constant returns to scale (CRS) would also require multiplicative error structure. \n",
    "\n",
    "In the context of VRS, the log-transformed `CNLS` formulation:\n",
    "\n",
    "\\begin{align*}\n",
    "& \\underset{\\alpha, \\beta, \\varepsilon} {min} \\sum_{i=1}^n\\varepsilon_i^2 \\\\\n",
    "& \\text{s.t.} \\\\\n",
    "&  \\text{ln}y_i = \\text{ln}(\\phi_i+1) + \\varepsilon_i  \\quad \\forall i\\\\\n",
    "& \\phi_i  = \\alpha_i+\\beta_i^{'}X_i -1 \\quad \\forall i \\\\\n",
    "&  \\alpha_i + \\beta_i^{'}X_i \\le \\alpha_j + \\beta_j^{'}X_i  \\quad  \\forall i, j\\\\\n",
    "&  \\beta_i \\ge 0 \\quad  \\forall i \\\\\n",
    "\\end{align*}\n",
    "\n",
    "The CRS log-transformed `CNLS` formulation:\n",
    "\n",
    "\\begin{align*}\n",
    "& \\underset{\\alpha, \\beta, \\varepsilon} {min} \\sum_{i=1}^n\\varepsilon_i^2 \\\\\n",
    "& \\text{s.t.} \\\\\n",
    "&  \\text{ln}y_i = \\text{ln}(\\phi_i+1) + \\varepsilon_i  \\quad \\forall i\\\\\n",
    "& \\phi_i  = \\beta_i^{'}X_i -1 \\quad \\forall i \\\\\n",
    "&  \\beta_i^{'}X_i \\le \\beta_j^{'}X_i  \\quad  \\forall i, j\\\\\n",
    "&  \\beta_i \\ge 0 \\quad  \\forall i \\\\\n",
    "\\end{align*}\n",
    "\n",
    "where $\\phi_i+1$ is the CNLS estimator of $E(y_i|x_i)$. The value of one is added here to make sure that the computational algorithms do not try to take logarithm of zero. The first equality can be interpreted as the log transformed regression equation (using the natural logarithm function $ln(.)$). The rest of constraints \n",
    "are similar to additive production function model. The use of $\\phi_i$ allows the estimation of a multiplicative relationship between output and input while assuring convexity of the production possibility set in original input-output space."
   ]
  },
  {
   "cell_type": "markdown",
   "metadata": {},
   "source": [
    "# CNLS - Multiplicativo com função de produção (Resultados iguais aos do método StoNED)"
   ]
  },
  {
   "cell_type": "markdown",
   "metadata": {},
   "source": [
    "## Modelo VRS sem variáveis contextuais"
   ]
  },
  {
   "cell_type": "code",
   "execution_count": 1,
   "metadata": {
    "colab": {
     "base_uri": "https://localhost:8080/"
    },
    "executionInfo": {
     "elapsed": 22990,
     "status": "ok",
     "timestamp": 1613740251908,
     "user": {
      "displayName": "Carlos Neves",
      "photoUrl": "https://lh3.googleusercontent.com/a-/AOh14GihshcT2wuy7yXjgWLBeelOeKy5RDKiFor8TL8ZqA=s64",
      "userId": "12912154966366425425"
     },
     "user_tz": 180
    },
    "id": "RFkWOnyFaXNK",
    "outputId": "8d1cebee-4b90-48a5-859c-f93c67f812c4"
   },
   "outputs": [],
   "source": [
    "#! pip install pymo\r",
    "#\n",
    "#! pip install pystone\n",
    "# fix jedi\n",
    "%config Completer.use_jedi = False\n",
    "%load_ext lab_black"
   ]
  },
  {
   "cell_type": "code",
   "execution_count": 6,
   "metadata": {
    "executionInfo": {
     "elapsed": 2895,
     "status": "ok",
     "timestamp": 1613740285668,
     "user": {
      "displayName": "Carlos Neves",
      "photoUrl": "https://lh3.googleusercontent.com/a-/AOh14GihshcT2wuy7yXjgWLBeelOeKy5RDKiFor8TL8ZqA=s64",
      "userId": "12912154966366425425"
     },
     "user_tz": 180
    },
    "id": "o5-jXJG7aByd"
   },
   "outputs": [],
   "source": [
    "# import packages\n",
    "from pystoned import CNLS\n",
    "from pystoned import StoNED\n",
    "import pandas as pd\n",
    "import numpy as np"
   ]
  },
  {
   "cell_type": "code",
   "execution_count": 8,
   "metadata": {
    "executionInfo": {
     "elapsed": 1653,
     "status": "ok",
     "timestamp": 1613740416745,
     "user": {
      "displayName": "Carlos Neves",
      "photoUrl": "https://lh3.googleusercontent.com/a-/AOh14GihshcT2wuy7yXjgWLBeelOeKy5RDKiFor8TL8ZqA=s64",
      "userId": "12912154966366425425"
     },
     "user_tz": 180
    },
    "id": "RV-j0TxNaByg"
   },
   "outputs": [],
   "source": [
    "# Necessário para utilizar os solvers do servidor NEOS\n",
    "from pyomo import environ as pym\n",
    "import os\n",
    "\n",
    "# provide an email address\n",
    "os.environ[\"NEOS_EMAIL\"] = \"carlos.vneves@gmail.com\"\n",
    "solver_manager = pym.SolverManagerFactory(\"neos\")"
   ]
  },
  {
   "cell_type": "code",
   "execution_count": 7,
   "metadata": {
    "colab": {
     "base_uri": "https://localhost:8080/",
     "height": 206
    },
    "executionInfo": {
     "elapsed": 1613,
     "status": "ok",
     "timestamp": 1613740394752,
     "user": {
      "displayName": "Carlos Neves",
      "photoUrl": "https://lh3.googleusercontent.com/a-/AOh14GihshcT2wuy7yXjgWLBeelOeKy5RDKiFor8TL8ZqA=s64",
      "userId": "12912154966366425425"
     },
     "user_tz": 180
    },
    "id": "Qztfr37MaBye",
    "outputId": "f4610ed0-7dc3-4fb1-f9b3-a539f917baed"
   },
   "outputs": [
    {
     "data": {
      "text/html": [
       "<div>\n",
       "<style scoped>\n",
       "    .dataframe tbody tr th:only-of-type {\n",
       "        vertical-align: middle;\n",
       "    }\n",
       "\n",
       "    .dataframe tbody tr th {\n",
       "        vertical-align: top;\n",
       "    }\n",
       "\n",
       "    .dataframe thead th {\n",
       "        text-align: right;\n",
       "    }\n",
       "</style>\n",
       "<table border=\"1\" class=\"dataframe\">\n",
       "  <thead>\n",
       "    <tr style=\"text-align: right;\">\n",
       "      <th></th>\n",
       "      <th>conc</th>\n",
       "      <th>tar</th>\n",
       "      <th>mat</th>\n",
       "      <th>etp</th>\n",
       "      <th>npp</th>\n",
       "      <th>ext</th>\n",
       "      <th>dEtapa2</th>\n",
       "      <th>dEtapa3</th>\n",
       "      <th>custm</th>\n",
       "      <th>recm</th>\n",
       "      <th>avgm</th>\n",
       "      <th>tarm</th>\n",
       "    </tr>\n",
       "    <tr>\n",
       "      <th>dmu</th>\n",
       "      <th></th>\n",
       "      <th></th>\n",
       "      <th></th>\n",
       "      <th></th>\n",
       "      <th></th>\n",
       "      <th></th>\n",
       "      <th></th>\n",
       "      <th></th>\n",
       "      <th></th>\n",
       "      <th></th>\n",
       "      <th></th>\n",
       "      <th></th>\n",
       "    </tr>\n",
       "  </thead>\n",
       "  <tbody>\n",
       "    <tr>\n",
       "      <th>1</th>\n",
       "      <td>AUTOFERNAODIAS</td>\n",
       "      <td>1.40</td>\n",
       "      <td>1473</td>\n",
       "      <td>2</td>\n",
       "      <td>8</td>\n",
       "      <td>562.099976</td>\n",
       "      <td>1</td>\n",
       "      <td>0</td>\n",
       "      <td>729.925964</td>\n",
       "      <td>430.033997</td>\n",
       "      <td>3.374</td>\n",
       "      <td>1.680000</td>\n",
       "    </tr>\n",
       "    <tr>\n",
       "      <th>2</th>\n",
       "      <td>AUTOFLUMINENSE</td>\n",
       "      <td>3.10</td>\n",
       "      <td>258674</td>\n",
       "      <td>2</td>\n",
       "      <td>5</td>\n",
       "      <td>320.100006</td>\n",
       "      <td>1</td>\n",
       "      <td>0</td>\n",
       "      <td>1170.303955</td>\n",
       "      <td>166264.328125</td>\n",
       "      <td>3.800</td>\n",
       "      <td>3.620000</td>\n",
       "    </tr>\n",
       "    <tr>\n",
       "      <th>3</th>\n",
       "      <td>AUTOLITORALSUL</td>\n",
       "      <td>1.50</td>\n",
       "      <td>1408</td>\n",
       "      <td>2</td>\n",
       "      <td>5</td>\n",
       "      <td>382.299988</td>\n",
       "      <td>1</td>\n",
       "      <td>0</td>\n",
       "      <td>1203.404053</td>\n",
       "      <td>562.615967</td>\n",
       "      <td>3.756</td>\n",
       "      <td>1.840000</td>\n",
       "    </tr>\n",
       "    <tr>\n",
       "      <th>4</th>\n",
       "      <td>AUTOPLANALTOSUL</td>\n",
       "      <td>3.60</td>\n",
       "      <td>1473</td>\n",
       "      <td>2</td>\n",
       "      <td>5</td>\n",
       "      <td>412.700012</td>\n",
       "      <td>1</td>\n",
       "      <td>0</td>\n",
       "      <td>593.832031</td>\n",
       "      <td>263.122009</td>\n",
       "      <td>3.562</td>\n",
       "      <td>4.380000</td>\n",
       "    </tr>\n",
       "    <tr>\n",
       "      <th>5</th>\n",
       "      <td>AUTOREGIS</td>\n",
       "      <td>1.80</td>\n",
       "      <td>1473</td>\n",
       "      <td>2</td>\n",
       "      <td>6</td>\n",
       "      <td>401.600006</td>\n",
       "      <td>1</td>\n",
       "      <td>0</td>\n",
       "      <td>1276.776001</td>\n",
       "      <td>690.028015</td>\n",
       "      <td>4.224</td>\n",
       "      <td>2.220000</td>\n",
       "    </tr>\n",
       "    <tr>\n",
       "      <th>6</th>\n",
       "      <td>CCRPONTE</td>\n",
       "      <td>4.88</td>\n",
       "      <td>5980</td>\n",
       "      <td>1</td>\n",
       "      <td>1</td>\n",
       "      <td>13.200000</td>\n",
       "      <td>0</td>\n",
       "      <td>0</td>\n",
       "      <td>5441.793457</td>\n",
       "      <td>11327.556641</td>\n",
       "      <td>4.000</td>\n",
       "      <td>4.993333</td>\n",
       "    </tr>\n",
       "    <tr>\n",
       "      <th>7</th>\n",
       "      <td>CONCEBRA</td>\n",
       "      <td>3.50</td>\n",
       "      <td>187</td>\n",
       "      <td>3</td>\n",
       "      <td>11</td>\n",
       "      <td>1176.500000</td>\n",
       "      <td>0</td>\n",
       "      <td>1</td>\n",
       "      <td>471.770020</td>\n",
       "      <td>227.660004</td>\n",
       "      <td>3.575</td>\n",
       "      <td>3.350000</td>\n",
       "    </tr>\n",
       "    <tr>\n",
       "      <th>8</th>\n",
       "      <td>CONCEPA</td>\n",
       "      <td>8.54</td>\n",
       "      <td>5545</td>\n",
       "      <td>1</td>\n",
       "      <td>3</td>\n",
       "      <td>121.000000</td>\n",
       "      <td>0</td>\n",
       "      <td>0</td>\n",
       "      <td>2050.302002</td>\n",
       "      <td>2165.961914</td>\n",
       "      <td>3.086</td>\n",
       "      <td>10.906000</td>\n",
       "    </tr>\n",
       "    <tr>\n",
       "      <th>9</th>\n",
       "      <td>CONCER</td>\n",
       "      <td>8.00</td>\n",
       "      <td>5977</td>\n",
       "      <td>1</td>\n",
       "      <td>3</td>\n",
       "      <td>179.899994</td>\n",
       "      <td>0</td>\n",
       "      <td>0</td>\n",
       "      <td>1807.130005</td>\n",
       "      <td>1403.515991</td>\n",
       "      <td>3.800</td>\n",
       "      <td>9.720000</td>\n",
       "    </tr>\n",
       "    <tr>\n",
       "      <th>10</th>\n",
       "      <td>CRO</td>\n",
       "      <td>3.45</td>\n",
       "      <td>116</td>\n",
       "      <td>3</td>\n",
       "      <td>9</td>\n",
       "      <td>850.900024</td>\n",
       "      <td>0</td>\n",
       "      <td>1</td>\n",
       "      <td>569.080017</td>\n",
       "      <td>300.299988</td>\n",
       "      <td>4.140</td>\n",
       "      <td>4.125000</td>\n",
       "    </tr>\n",
       "  </tbody>\n",
       "</table>\n",
       "</div>"
      ],
      "text/plain": [
       "                conc   tar     mat  etp  npp          ext  dEtapa2  dEtapa3  \\\n",
       "dmu                                                                           \n",
       "1     AUTOFERNAODIAS  1.40    1473    2    8   562.099976        1        0   \n",
       "2     AUTOFLUMINENSE  3.10  258674    2    5   320.100006        1        0   \n",
       "3     AUTOLITORALSUL  1.50    1408    2    5   382.299988        1        0   \n",
       "4    AUTOPLANALTOSUL  3.60    1473    2    5   412.700012        1        0   \n",
       "5          AUTOREGIS  1.80    1473    2    6   401.600006        1        0   \n",
       "6           CCRPONTE  4.88    5980    1    1    13.200000        0        0   \n",
       "7           CONCEBRA  3.50     187    3   11  1176.500000        0        1   \n",
       "8            CONCEPA  8.54    5545    1    3   121.000000        0        0   \n",
       "9             CONCER  8.00    5977    1    3   179.899994        0        0   \n",
       "10               CRO  3.45     116    3    9   850.900024        0        1   \n",
       "\n",
       "           custm           recm   avgm       tarm  \n",
       "dmu                                                \n",
       "1     729.925964     430.033997  3.374   1.680000  \n",
       "2    1170.303955  166264.328125  3.800   3.620000  \n",
       "3    1203.404053     562.615967  3.756   1.840000  \n",
       "4     593.832031     263.122009  3.562   4.380000  \n",
       "5    1276.776001     690.028015  4.224   2.220000  \n",
       "6    5441.793457   11327.556641  4.000   4.993333  \n",
       "7     471.770020     227.660004  3.575   3.350000  \n",
       "8    2050.302002    2165.961914  3.086  10.906000  \n",
       "9    1807.130005    1403.515991  3.800   9.720000  \n",
       "10    569.080017     300.299988  4.140   4.125000  "
      ]
     },
     "execution_count": 7,
     "metadata": {},
     "output_type": "execute_result"
    }
   ],
   "source": [
    "# import highway brazilian federal concessions data - mean filtered data\n",
    "#url = 'https://raw.githubusercontent.com/carlosvneves/__TESE_code-data/main/data/data_sfa.csv?token=AC5PIDJLCNZV6OSQZR653E3AF7KGM'\n",
    "#df = pd.read_csv(url, error_bad_lines=False)\n",
    "df = pd.read_csv(\"data_sfa.csv\", error_bad_lines=False)\n",
    "df = df.set_index(\"dmu\")\n",
    "df = df.drop(\"Unnamed: 0\", axis=1)\n",
    "df.head(10)"
   ]
  },
  {
   "cell_type": "code",
   "execution_count": 37,
   "metadata": {
    "executionInfo": {
     "elapsed": 3358,
     "status": "ok",
     "timestamp": 1613740410335,
     "user": {
      "displayName": "Carlos Neves",
      "photoUrl": "https://lh3.googleusercontent.com/a-/AOh14GihshcT2wuy7yXjgWLBeelOeKy5RDKiFor8TL8ZqA=s64",
      "userId": "12912154966366425425"
     },
     "user_tz": 180
    },
    "id": "MQt0Yq50aByf"
   },
   "outputs": [],
   "source": [
    "# output\n",
    "y = df['avgm']\n",
    "\n",
    "# inputs\n",
    "x1 = df['custm']\n",
    "x1 = np.asmatrix(x1).T\n",
    "x2 = df['recm']\n",
    "x2 = np.asmatrix(x2).T\n",
    "x = np.concatenate((x1, x2), axis=1)"
   ]
  },
  {
   "cell_type": "code",
   "execution_count": 39,
   "metadata": {
    "colab": {
     "base_uri": "https://localhost:8080/"
    },
    "executionInfo": {
     "elapsed": 9377,
     "status": "ok",
     "timestamp": 1613740429100,
     "user": {
      "displayName": "Carlos Neves",
      "photoUrl": "https://lh3.googleusercontent.com/a-/AOh14GihshcT2wuy7yXjgWLBeelOeKy5RDKiFor8TL8ZqA=s64",
      "userId": "12912154966366425425"
     },
     "user_tz": 180
    },
    "id": "2FhOS48eaByg",
    "outputId": "0d653e63-acb1-404e-94f3-9341b665fdd0"
   },
   "outputs": [
    {
     "name": "stdout",
     "output_type": "stream",
     "text": [
      "Estimating the multiplicative model remotely with knitro solver\n"
     ]
    }
   ],
   "source": [
    "# define and solve the CNLS model\n",
    "model = CNLS.CNLS(y, x, z=None, cet = \"mult\", fun = \"prod\", rts = \"vrs\")\n",
    "model.optimize(remote=True)"
   ]
  },
  {
   "cell_type": "code",
   "execution_count": 40,
   "metadata": {
    "executionInfo": {
     "elapsed": 2732,
     "status": "ok",
     "timestamp": 1613740458720,
     "user": {
      "displayName": "Carlos Neves",
      "photoUrl": "https://lh3.googleusercontent.com/a-/AOh14GihshcT2wuy7yXjgWLBeelOeKy5RDKiFor8TL8ZqA=s64",
      "userId": "12912154966366425425"
     },
     "user_tz": 180
    },
    "id": "uaPX_NP_aByl"
   },
   "outputs": [],
   "source": [
    "# store the beta \n",
    "beta = model.get_beta()\n",
    "# production df\n",
    "prod_df = pd.DataFrame(data=[beta[:,0],beta[:,1]])\n",
    "prod_df = prod_df.transpose()\n",
    "prod_df.columns = [\"Custos\",\"Receitas\"]\n",
    "elasticity = prod_df[\"Custos\"]/prod_df[\"Receitas\"]\n",
    "prod_df.insert(2,\"Elasticidade\",elasticity)"
   ]
  },
  {
   "cell_type": "code",
   "execution_count": 41,
   "metadata": {
    "colab": {
     "base_uri": "https://localhost:8080/",
     "height": 300
    },
    "executionInfo": {
     "elapsed": 2528,
     "status": "ok",
     "timestamp": 1613740462642,
     "user": {
      "displayName": "Carlos Neves",
      "photoUrl": "https://lh3.googleusercontent.com/a-/AOh14GihshcT2wuy7yXjgWLBeelOeKy5RDKiFor8TL8ZqA=s64",
      "userId": "12912154966366425425"
     },
     "user_tz": 180
    },
    "id": "K7_3Ga2baByl",
    "outputId": "ebe14403-9c27-4680-d53c-62ed5fd13962"
   },
   "outputs": [
    {
     "data": {
      "text/html": [
       "<div>\n",
       "<style scoped>\n",
       "    .dataframe tbody tr th:only-of-type {\n",
       "        vertical-align: middle;\n",
       "    }\n",
       "\n",
       "    .dataframe tbody tr th {\n",
       "        vertical-align: top;\n",
       "    }\n",
       "\n",
       "    .dataframe thead th {\n",
       "        text-align: right;\n",
       "    }\n",
       "</style>\n",
       "<table border=\"1\" class=\"dataframe\">\n",
       "  <thead>\n",
       "    <tr style=\"text-align: right;\">\n",
       "      <th></th>\n",
       "      <th>Custos</th>\n",
       "      <th>Receitas</th>\n",
       "      <th>Elasticidade</th>\n",
       "    </tr>\n",
       "  </thead>\n",
       "  <tbody>\n",
       "    <tr>\n",
       "      <th>count</th>\n",
       "      <td>2.100000e+01</td>\n",
       "      <td>2.100000e+01</td>\n",
       "      <td>2.100000e+01</td>\n",
       "    </tr>\n",
       "    <tr>\n",
       "      <th>mean</th>\n",
       "      <td>6.976813e-02</td>\n",
       "      <td>1.584762e-01</td>\n",
       "      <td>2.495486e+07</td>\n",
       "    </tr>\n",
       "    <tr>\n",
       "      <th>std</th>\n",
       "      <td>2.808490e-01</td>\n",
       "      <td>4.277607e-01</td>\n",
       "      <td>1.143568e+08</td>\n",
       "    </tr>\n",
       "    <tr>\n",
       "      <th>min</th>\n",
       "      <td>2.607699e-12</td>\n",
       "      <td>1.229243e-14</td>\n",
       "      <td>4.989270e-08</td>\n",
       "    </tr>\n",
       "    <tr>\n",
       "      <th>25%</th>\n",
       "      <td>9.490666e-12</td>\n",
       "      <td>5.226609e-05</td>\n",
       "      <td>2.443923e-07</td>\n",
       "    </tr>\n",
       "    <tr>\n",
       "      <th>50%</th>\n",
       "      <td>8.101703e-11</td>\n",
       "      <td>5.226621e-05</td>\n",
       "      <td>2.492243e-06</td>\n",
       "    </tr>\n",
       "    <tr>\n",
       "      <th>75%</th>\n",
       "      <td>6.494104e-05</td>\n",
       "      <td>5.226809e-05</td>\n",
       "      <td>2.776593e-01</td>\n",
       "    </tr>\n",
       "    <tr>\n",
       "      <th>max</th>\n",
       "      <td>1.284558e+00</td>\n",
       "      <td>1.544998e+00</td>\n",
       "      <td>5.240487e+08</td>\n",
       "    </tr>\n",
       "  </tbody>\n",
       "</table>\n",
       "</div>"
      ],
      "text/plain": [
       "             Custos      Receitas  Elasticidade\n",
       "count  2.100000e+01  2.100000e+01  2.100000e+01\n",
       "mean   6.976813e-02  1.584762e-01  2.495486e+07\n",
       "std    2.808490e-01  4.277607e-01  1.143568e+08\n",
       "min    2.607699e-12  1.229243e-14  4.989270e-08\n",
       "25%    9.490666e-12  5.226609e-05  2.443923e-07\n",
       "50%    8.101703e-11  5.226621e-05  2.492243e-06\n",
       "75%    6.494104e-05  5.226809e-05  2.776593e-01\n",
       "max    1.284558e+00  1.544998e+00  5.240487e+08"
      ]
     },
     "execution_count": 41,
     "metadata": {},
     "output_type": "execute_result"
    }
   ],
   "source": [
    "prod_df.describe()\n"
   ]
  },
  {
   "cell_type": "code",
   "execution_count": 42,
   "metadata": {
    "colab": {
     "base_uri": "https://localhost:8080/",
     "height": 283
    },
    "executionInfo": {
     "elapsed": 2804,
     "status": "ok",
     "timestamp": 1613740530249,
     "user": {
      "displayName": "Carlos Neves",
      "photoUrl": "https://lh3.googleusercontent.com/a-/AOh14GihshcT2wuy7yXjgWLBeelOeKy5RDKiFor8TL8ZqA=s64",
      "userId": "12912154966366425425"
     },
     "user_tz": 180
    },
    "id": "Ko6dBbGqbet3",
    "outputId": "4e286278-ea6a-4486-8d34-9d5d5844a26c"
   },
   "outputs": [
    {
     "data": {
      "image/png": "[encoded data removed]",
      "text/plain": [
       "<Figure size 432x288 with 1 Axes>"
      ]
     },
     "metadata": {
      "needs_background": "light"
     },
     "output_type": "display_data"
    }
   ],
   "source": [
    "model.plot2d(0)"
   ]
  },
  {
   "cell_type": "code",
   "execution_count": 43,
   "metadata": {
    "colab": {
     "base_uri": "https://localhost:8080/",
     "height": 283
    },
    "executionInfo": {
     "elapsed": 1707,
     "status": "ok",
     "timestamp": 1613740587454,
     "user": {
      "displayName": "Carlos Neves",
      "photoUrl": "https://lh3.googleusercontent.com/a-/AOh14GihshcT2wuy7yXjgWLBeelOeKy5RDKiFor8TL8ZqA=s64",
      "userId": "12912154966366425425"
     },
     "user_tz": 180
    },
    "id": "_hH1qxnVbn9B",
    "outputId": "5984b43e-de92-43ba-c9b4-ceb59c6a90ba"
   },
   "outputs": [
    {
     "data": {
      "image/png": "[encoded data removed]",
      "text/plain": [
       "<Figure size 432x288 with 1 Axes>"
      ]
     },
     "metadata": {
      "needs_background": "light"
     },
     "output_type": "display_data"
    }
   ],
   "source": [
    "model.plot2d(1)"
   ]
  },
  {
   "cell_type": "code",
   "execution_count": 44,
   "metadata": {
    "id": "83fNCZHIaByl",
    "outputId": "fb16f14f-60bd-460e-f52d-dda2feb614cb"
   },
   "outputs": [
    {
     "data": {
      "text/plain": [
       "array([-1.22800030e-01, -7.98062623e-02, -1.73592952e-02, -6.62873786e-02,\n",
       "        9.83277115e-02, -3.40815177e-02,  1.46916157e-08, -2.35528381e-01,\n",
       "       -1.71472581e-02,  8.35757613e-02,  3.58151118e-02, -6.98735604e-02,\n",
       "        8.37015200e-02,  5.99258319e-02,  4.86855917e-02,  5.56381083e-09,\n",
       "        7.56300331e-02,  6.77818707e-02,  9.80822309e-02,  5.14177086e-02,\n",
       "       -6.00596808e-02])"
      ]
     },
     "execution_count": 44,
     "metadata": {},
     "output_type": "execute_result"
    }
   ],
   "source": [
    "# store the residual\n",
    "eps = model.get_residual()\n",
    "eps"
   ]
  },
  {
   "cell_type": "markdown",
   "metadata": {
    "id": "B72QjuOvaBym"
   },
   "source": [
    "## Compute Efficiency"
   ]
  },
  {
   "cell_type": "code",
   "execution_count": 45,
   "metadata": {},
   "outputs": [
    {
     "data": {
      "text/plain": [
       "array([0.97487261, 0.97666654, 0.97491703, 0.97481647, 0.97495957,\n",
       "       0.9767931 , 0.97323198, 0.97544201, 0.97519513, 0.974829  ,\n",
       "       0.97515473, 0.97485618, 0.9767931 , 0.97482452, 0.97484099,\n",
       "       0.97267405, 0.97565395, 0.97664409, 0.97482611, 0.97480459,\n",
       "       0.97484211])"
      ]
     },
     "execution_count": 45,
     "metadata": {},
     "output_type": "execute_result"
    }
   ],
   "source": [
    "ubenchmark = max(eps)\n",
    "yhat = model.get_frontier()\n",
    "# The purpose of this line is to impose monotonicity\n",
    "uCNLS = ubenchmark - eps\n",
    "# The purpose of this line is to impose monotonicity by\n",
    "phiC2NLS = yhat + ubenchmark\n",
    "# Farrel efficiency scores\n",
    "thetaC2NLS = yhat / phiC2NLS\n",
    "thetaC2NLS"
   ]
  },
  {
   "cell_type": "code",
   "execution_count": 46,
   "metadata": {},
   "outputs": [
    {
     "data": {
      "text/plain": [
       "array([0.80161427, 0.8368303 , 0.89075398, 0.84822013, 1.        ,\n",
       "       0.87598244, 0.90635185, 0.71615683, 0.89094287, 0.98535633,\n",
       "       0.93940123, 0.84518371, 0.98548025, 0.96232612, 0.95156991,\n",
       "       0.90635184, 0.97755798, 0.96991597, 0.99975455, 0.95417327,\n",
       "       0.85351907])"
      ]
     },
     "execution_count": 46,
     "metadata": {},
     "output_type": "execute_result"
    }
   ],
   "source": [
    "# Calcula eficiência técnica na forma do SFA\n",
    "ustar = -(eps - ubenchmark)\n",
    "theta = np.exp(-ustar)\n",
    "theta"
   ]
  },
  {
   "cell_type": "markdown",
   "metadata": {},
   "source": [
    "# StoNED (VRS) - Multiplicativo sem variáveis contextuais"
   ]
  },
  {
   "cell_type": "code",
   "execution_count": 70,
   "metadata": {},
   "outputs": [
    {
     "name": "stdout",
     "output_type": "stream",
     "text": [
      "Estimating the multiplicative model remotely with knitro solver\n"
     ]
    }
   ],
   "source": [
    "# StoNED model\n",
    "# define and solve the CNLS model\n",
    "model_st = StoNED.StoNED(y, x, z=None, cet = \"mult\", fun = \"prod\", rts = \"vrs\")\n",
    "model_st.optimize(remote=True)"
   ]
  },
  {
   "cell_type": "code",
   "execution_count": 73,
   "metadata": {},
   "outputs": [],
   "source": [
    "# store the beta \n",
    "beta_st = model_st.get_beta()\n",
    "# production df\n",
    "prod_df_st = pd.DataFrame(data=[beta_st[:,0],beta_st[:,1]])\n",
    "prod_df_st = prod_df_st.transpose()\n",
    "prod_df_st.columns = [\"Custos\",\"Receitas\"]\n",
    "elasticity_st = prod_df_st[\"Custos\"]/prod_df_st[\"Receitas\"]\n",
    "prod_df_st.insert(2,\"Elasticidade\",elasticity_st)"
   ]
  },
  {
   "cell_type": "code",
   "execution_count": 74,
   "metadata": {},
   "outputs": [
    {
     "data": {
      "text/html": [
       "<div>\n",
       "<style scoped>\n",
       "    .dataframe tbody tr th:only-of-type {\n",
       "        vertical-align: middle;\n",
       "    }\n",
       "\n",
       "    .dataframe tbody tr th {\n",
       "        vertical-align: top;\n",
       "    }\n",
       "\n",
       "    .dataframe thead th {\n",
       "        text-align: right;\n",
       "    }\n",
       "</style>\n",
       "<table border=\"1\" class=\"dataframe\">\n",
       "  <thead>\n",
       "    <tr style=\"text-align: right;\">\n",
       "      <th></th>\n",
       "      <th>Custos</th>\n",
       "      <th>Receitas</th>\n",
       "      <th>Elasticidade</th>\n",
       "    </tr>\n",
       "  </thead>\n",
       "  <tbody>\n",
       "    <tr>\n",
       "      <th>count</th>\n",
       "      <td>2.100000e+01</td>\n",
       "      <td>2.100000e+01</td>\n",
       "      <td>2.100000e+01</td>\n",
       "    </tr>\n",
       "    <tr>\n",
       "      <th>mean</th>\n",
       "      <td>6.976813e-02</td>\n",
       "      <td>1.584762e-01</td>\n",
       "      <td>2.495486e+07</td>\n",
       "    </tr>\n",
       "    <tr>\n",
       "      <th>std</th>\n",
       "      <td>2.808490e-01</td>\n",
       "      <td>4.277607e-01</td>\n",
       "      <td>1.143568e+08</td>\n",
       "    </tr>\n",
       "    <tr>\n",
       "      <th>min</th>\n",
       "      <td>2.607699e-12</td>\n",
       "      <td>1.229243e-14</td>\n",
       "      <td>4.989270e-08</td>\n",
       "    </tr>\n",
       "    <tr>\n",
       "      <th>25%</th>\n",
       "      <td>9.490666e-12</td>\n",
       "      <td>5.226609e-05</td>\n",
       "      <td>2.443923e-07</td>\n",
       "    </tr>\n",
       "    <tr>\n",
       "      <th>50%</th>\n",
       "      <td>8.101703e-11</td>\n",
       "      <td>5.226621e-05</td>\n",
       "      <td>2.492243e-06</td>\n",
       "    </tr>\n",
       "    <tr>\n",
       "      <th>75%</th>\n",
       "      <td>6.494104e-05</td>\n",
       "      <td>5.226809e-05</td>\n",
       "      <td>2.776593e-01</td>\n",
       "    </tr>\n",
       "    <tr>\n",
       "      <th>max</th>\n",
       "      <td>1.284558e+00</td>\n",
       "      <td>1.544998e+00</td>\n",
       "      <td>5.240487e+08</td>\n",
       "    </tr>\n",
       "  </tbody>\n",
       "</table>\n",
       "</div>"
      ],
      "text/plain": [
       "             Custos      Receitas  Elasticidade\n",
       "count  2.100000e+01  2.100000e+01  2.100000e+01\n",
       "mean   6.976813e-02  1.584762e-01  2.495486e+07\n",
       "std    2.808490e-01  4.277607e-01  1.143568e+08\n",
       "min    2.607699e-12  1.229243e-14  4.989270e-08\n",
       "25%    9.490666e-12  5.226609e-05  2.443923e-07\n",
       "50%    8.101703e-11  5.226621e-05  2.492243e-06\n",
       "75%    6.494104e-05  5.226809e-05  2.776593e-01\n",
       "max    1.284558e+00  1.544998e+00  5.240487e+08"
      ]
     },
     "execution_count": 74,
     "metadata": {},
     "output_type": "execute_result"
    }
   ],
   "source": [
    "prod_df_st.describe()\n"
   ]
  },
  {
   "cell_type": "code",
   "execution_count": 75,
   "metadata": {},
   "outputs": [
    {
     "data": {
      "image/png": "[encoded data removed]",
      "text/plain": [
       "<Figure size 432x288 with 1 Axes>"
      ]
     },
     "metadata": {
      "needs_background": "light"
     },
     "output_type": "display_data"
    }
   ],
   "source": [
    "model_st.plot2d(0)"
   ]
  },
  {
   "cell_type": "code",
   "execution_count": 76,
   "metadata": {},
   "outputs": [
    {
     "data": {
      "image/png": "[encoded data removed]",
      "text/plain": [
       "<Figure size 432x288 with 1 Axes>"
      ]
     },
     "metadata": {
      "needs_background": "light"
     },
     "output_type": "display_data"
    }
   ],
   "source": [
    "model.plot2d(1)"
   ]
  },
  {
   "cell_type": "code",
   "execution_count": 77,
   "metadata": {},
   "outputs": [
    {
     "data": {
      "text/plain": [
       "array([-1.22800030e-01, -7.98062623e-02, -1.73592952e-02, -6.62873786e-02,\n",
       "        9.83277115e-02, -3.40815177e-02,  1.46916157e-08, -2.35528381e-01,\n",
       "       -1.71472581e-02,  8.35757613e-02,  3.58151118e-02, -6.98735604e-02,\n",
       "        8.37015200e-02,  5.99258319e-02,  4.86855917e-02,  5.56381083e-09,\n",
       "        7.56300331e-02,  6.77818707e-02,  9.80822309e-02,  5.14177086e-02,\n",
       "       -6.00596808e-02])"
      ]
     },
     "execution_count": 77,
     "metadata": {},
     "output_type": "execute_result"
    }
   ],
   "source": [
    "# store the residual\n",
    "eps_st = model_st.get_residual()\n",
    "eps_st"
   ]
  },
  {
   "cell_type": "code",
   "execution_count": 78,
   "metadata": {},
   "outputs": [
    {
     "data": {
      "text/plain": [
       "array([0.80161427, 0.8368303 , 0.89075398, 0.84822013, 1.        ,\n",
       "       0.87598244, 0.90635185, 0.71615683, 0.89094287, 0.98535633,\n",
       "       0.93940123, 0.84518371, 0.98548025, 0.96232612, 0.95156991,\n",
       "       0.90635184, 0.97755798, 0.96991597, 0.99975455, 0.95417327,\n",
       "       0.85351907])"
      ]
     },
     "execution_count": 78,
     "metadata": {},
     "output_type": "execute_result"
    }
   ],
   "source": [
    "# Calcula eficiência técnica na forma do SFA\n",
    "ubenchmark = max(eps_st)\n",
    "ustar_st = -(eps_st - ubenchmark)\n",
    "theta_st = np.exp(-ustar_st)\n",
    "theta_st"
   ]
  },
  {
   "cell_type": "code",
   "execution_count": 79,
   "metadata": {},
   "outputs": [
    {
     "name": "stdout",
     "output_type": "stream",
     "text": [
      "[0.79255967 0.82734878 0.88061644 0.83860027 0.98850406 0.86602488\n",
      " 0.89602405 0.7081329  0.88080303 0.97406159 0.92866959 0.83560074\n",
      " 0.974184   0.95131381 0.94068934 0.89602404 0.96635892 0.95881063\n",
      " 0.98826524 0.94326082 0.84383481]\n"
     ]
    }
   ],
   "source": [
    "# Quassi-likelihood estimation for technical inneficiency (works with vrs)\n",
    "print(model_st.get_technical_inefficiency(method='QLE'))"
   ]
  },
  {
   "cell_type": "markdown",
   "metadata": {},
   "source": [
    "# StoNEZD (VRS) - Multiplicativo com variáveis contextuais (Z-variables)"
   ]
  },
  {
   "cell_type": "markdown",
   "metadata": {},
   "source": [
    "A firm’s ability to operate efficiently often depends on operational conditions \n",
    "and practices, such as the production environment and the firm specific \n",
    "characteristics for  example  technology  selection  or  managerial  \n",
    "practices.  Banker  and  Natarajan (2008) refer to both variables that \n",
    "characterize operational conditions and practices as `contextual variables`.\n",
    "\n",
    "* Contextual variables are often (but not always) **external factors** that are beyond the control of firms\n",
    "\n",
    "    - Examples: competition, regulation, weather, location\n",
    "\n",
    "    - Need to adjust efficiency estimates for operating environment\n",
    "\n",
    "    - Policy makers may influence the operating environment\n",
    "\n",
    "* Contextual variables can also be **internal factors**\n",
    "\n",
    "    - Examples: management practices, ownership\n",
    "    \n",
    "    - Better understanding of the impacts of internal factors can help the firm to improve performance\n",
    "\n",
    "\n",
    "Taking the multiplicative model as our starting point, \n",
    "we introduce the contextual variables, represented by `r`-dimensional vectorszi that \n",
    "represent the measured values of operational conditions and practices, to obtain \n",
    "the following semi-nonparametric, partial log-linear equation\n",
    "\n",
    "\n",
    "   \\begin{align*}\n",
    "        \\text{ln} y_i = \\text{ln} f(\\bf x_i) + \\delta^{'}Z_i + v_i - u_i.\n",
    "   \\end{align*}\n",
    "\n",
    "In this equation, parameter vector $\\delta=(\\delta_1...\\delta_r)$ represents the \n",
    "marginal effects ofcontextual variables on output. All other variables maintain their \n",
    "previous definitions.\n",
    "\n",
    "Following Johnson and Kuosmanen (2011), we incorporate the contextual variables in step 1 of \n",
    "the StoNED estimation routine and refine the multiplicative CNLS problem as follows:\n",
    "\n",
    "   \\begin{align*}\n",
    "        & \\underset{\\alpha, \\beta, \\varepsilon} {min} \\sum_{i=1}^n\\varepsilon_i^2 \\\\\n",
    "        & \\text{s.t.} \\\\\n",
    "        &  \\text{ln} y_i = \\text{ln}(\\phi_i+1) + \\delta^{'}z_i + \\varepsilon_i  \\quad \\forall i\\\\\n",
    "        &   \\phi_i  = \\alpha_i + \\beta_i^{'}X_i -1 \\quad \\forall i \\\\\n",
    "        &  \\alpha_i + \\beta_i^{'}X_i \\le \\alpha_j + \\beta_j^{'}X_i  \\quad  \\forall i, j\\\\\n",
    "        &  \\beta_i \\ge 0 \\quad  \\forall i \\\\\n",
    "   \\end{align*}\n",
    "\n",
    "Denote by $\\delta^{StoNEZD}$ the coefficients  of  the contextual variables \n",
    "obtained as theoptimal solution to above nonlinear problem. Johnson and Kuosmanen (2011) examine the statisticalproperties of this estimator in \n",
    "detail, showing its unbiasedness, consistency, and asymptotic efficiency."
   ]
  },
  {
   "cell_type": "code",
   "execution_count": 4,
   "metadata": {},
   "outputs": [],
   "source": [
    "# output\n",
    "y = df[\"avgm\"]\n",
    "\n",
    "# inputs\n",
    "x1 = df[\"custm\"]\n",
    "x1 = np.asmatrix(x1).T\n",
    "x2 = df[\"recm\"]\n",
    "x2 = np.asmatrix(x2).T\n",
    "x = np.concatenate((x1, x2), axis=1)\n",
    "\n",
    "# Z variables\n",
    "# z = df['npp', 'ext', 'tar', 'dEtapa2', 'dEtapa3']\n",
    "z1 = df[\"npp\"]\n",
    "z1 = np.asmatrix(z1).T\n",
    "\n",
    "z2 = df[\"ext\"]\n",
    "z2 = np.asmatrix(z2).T\n",
    "\n",
    "z3 = df[\"tar\"]\n",
    "z3 = np.asmatrix(z3).T\n",
    "\n",
    "z4 = df[\"dEtapa2\"]\n",
    "z4 = np.asmatrix(z4).T\n",
    "\n",
    "z5 = df[\"dEtapa3\"]\n",
    "z5 = np.asmatrix(z5).T\n",
    "\n",
    "# z = np.concatenate((z1, z2, z3, z4, z5), axis=1)\n",
    "z = np.concatenate((z2, z4, z5), axis=1)"
   ]
  },
  {
   "cell_type": "code",
   "execution_count": 9,
   "metadata": {},
   "outputs": [
    {
     "name": "stdout",
     "output_type": "stream",
     "text": [
      "Estimating the multiplicative model remotely with knitro solver\n"
     ]
    }
   ],
   "source": [
    "# define and solve the StoNED model using KDE approach\n",
    "model_stz = StoNED.StoNED(y, x, z, cet=\"mult\", fun=\"prod\", rts=\"vrs\")\n",
    "model_stz.optimize(remote=True)"
   ]
  },
  {
   "cell_type": "code",
   "execution_count": 10,
   "metadata": {},
   "outputs": [
    {
     "name": "stdout",
     "output_type": "stream",
     "text": [
      "[0.81920036 0.84498507 0.91150178 0.88630395 0.97856823 0.89973398\n",
      " 0.91462036 0.75374561 0.92257367 0.93378582 0.96257161 0.83093276\n",
      " 0.95174791 0.96524675 0.9296859  0.91462036 0.96898949 0.96584609\n",
      " 0.9826987  0.92598414 0.86359362]\n"
     ]
    }
   ],
   "source": [
    "# retrive the technical inefficiency\n",
    "print(model_stz.get_technical_inefficiency(method=\"MOM\"))"
   ]
  },
  {
   "cell_type": "code",
   "execution_count": 37,
   "metadata": {},
   "outputs": [],
   "source": [
    "def SqB1Test(eps, n):\n",
    "    \"\"\"docstring\"\"\"\n",
    "    Flag = 0\n",
    "    # Calculate the first and second moments for each observation\n",
    "    M2 = np.power(eps, 2)\n",
    "    M3 = np.power(eps, 3)\n",
    "    # calculate the average moment\n",
    "    mM2 = np.mean(M2)\n",
    "    mM3 = np.mean(M3)\n",
    "\n",
    "    if 0 < mM3:\n",
    "        mM3 = -0.0001\n",
    "        Flag = 1\n",
    "\n",
    "    teststat = mM3 / (mM2 ** (3 / 2))\n",
    "\n",
    "    m = 1000\n",
    "\n",
    "    S = np.zeros(n)\n",
    "    teststatt = np.zeros(m)\n",
    "    # Calculates the number of time a test statistic calculate from random\n",
    "    # draws from a normal distribution is more negative the the one\n",
    "    # calculated from the data set\n",
    "    Flag1 = 0\n",
    "    for j in range(m):\n",
    "        for i in range(n):\n",
    "            S[i] = np.random.normal(0, np.sqrt(mM2))\n",
    "\n",
    "        M2t = np.power(S, 2)\n",
    "        M3t = np.power(S, 3)\n",
    "        mM2t = np.sum(M2t / (n - 1))\n",
    "        mM3t = np.sum(M3t / (n - 1))\n",
    "        teststatt[j] = mM3t / (mM2t) ** (3 / 2)\n",
    "        if teststatt[j] < teststat:\n",
    "            Flag1 = Flag1 + 1\n",
    "\n",
    "    Pvalue = Flag1 / m\n",
    "\n",
    "    return [teststat, teststatt, Pvalue, Flag]"
   ]
  },
  {
   "cell_type": "code",
   "execution_count": 38,
   "metadata": {},
   "outputs": [],
   "source": [
    "eps = model_stz.get_residual()\n",
    "n = df.shape[0]\n",
    "\n",
    "teststat, teststatt, Pvalue, Flag = SqB1Test(eps, n)"
   ]
  },
  {
   "cell_type": "code",
   "execution_count": 39,
   "metadata": {},
   "outputs": [
    {
     "data": {
      "text/plain": [
       "0.156"
      ]
     },
     "execution_count": 39,
     "metadata": {},
     "output_type": "execute_result"
    }
   ],
   "source": [
    "Pvalue"
   ]
  },
  {
   "cell_type": "markdown",
   "metadata": {
    "id": "IgqTQIB7aBym"
   },
   "source": [
    "\n",
    "# Stage 2: Shift the residuals analogous to the COLS procedure.\n"
   ]
  },
  {
   "cell_type": "code",
   "execution_count": null,
   "metadata": {
    "id": "twVqLjxAaBym",
    "outputId": "7e4ad366-9ca0-43e1-b7ba-c225ec93e7a5"
   },
   "outputs": [
    {
     "name": "stdout",
     "output_type": "stream",
     "text": [
      "[ -682.18628511  -677.96986146  -701.60760106 -1030.29488943\n",
      "  -693.08386584  -578.36898271  -708.25624145  -693.42357163\n",
      "  -680.23132996  -622.48952174  -393.87700961     0.\n",
      "  -699.61386855  -749.39175365  -668.87734898  -604.78650271\n",
      "  -685.9228403   -709.46030647  -719.51861485  -707.1616937\n",
      "  -630.62437904  -592.37583086  -656.90327703  -655.43310796\n",
      "  -681.52558101  -702.22045664  -717.24489682 -1030.45485178\n",
      "  -612.52632857  -701.08663425  -688.33517213  -463.37785393\n",
      "  -641.78647473  -711.19530615  -703.16854252  -880.72508909\n",
      "  -748.67416813  -673.11513674  -675.62810673  -753.99125594\n",
      "  -681.35864648  -691.35483223  -916.13018849  -672.80929741\n",
      "  -667.72698945  -699.38795009  -746.59843653  -684.62308616\n",
      "  -735.33078839  -413.86978863  -677.4597699   -697.03464298\n",
      "  -674.72756185  -640.52950626  -682.2871953   -329.85562089\n",
      "  -515.39334023  -644.38250679  -650.99090406  -778.51598826\n",
      "  -646.5951829  -1283.42373843  -482.28284144  -657.9728073\n",
      "  -706.13922979  -694.51363847  -649.99967093  -807.65486882\n",
      "  -695.82898344  -692.77012398  -973.2454663   -681.93444239\n",
      "  -202.76430018  -689.18748872  -647.2943649   -696.62519616\n",
      "  -564.61596058  -683.23543783  -643.98769514  -742.32122308\n",
      "  -670.4644886   -329.98663222  -760.08347777 -1284.14202208\n",
      "  -739.2235685   -672.66557864  -673.21027417  -685.44501487\n",
      "  -680.26902541]\n"
     ]
    }
   ],
   "source": [
    "# print the shifted residuals\n",
    "print(model.get_adjusted_residual())"
   ]
  },
  {
   "cell_type": "code",
   "execution_count": null,
   "metadata": {
    "id": "msQxpiL8aByn",
    "outputId": "cb7e029e-4acb-42e4-ebbb-23b440b382bd"
   },
   "outputs": [
    {
     "name": "stdout",
     "output_type": "stream",
     "text": [
      "[656.44808501 656.39723366 656.52009067 712.84491409 656.44560224\n",
      " 661.62997038 656.46313587 661.5889756  656.48069516 661.51304559\n",
      " 768.46025157 770.23520741 656.54882497 661.57462015 781.75383201\n",
      " 661.71321265 656.41901724 656.46672502 656.47674187 661.70191818\n",
      " 662.09506163 658.23718322 654.11799673 661.75197363 656.42625322\n",
      " 656.53930526 656.53769011 712.84515946 656.4199673  661.58108175\n",
      " 656.47590169 783.67720692 661.67247371 661.60764647 659.73046538\n",
      " 661.71706838 661.67993533 656.41899586 656.39371692 661.75582399\n",
      " 661.72244564 656.39154969 712.84562339 656.46240914 656.49014089\n",
      " 656.44101005 661.74698564 656.39245734 661.71744942 712.83613593\n",
      " 656.44162697 661.67646466 656.50874906 661.72237838 656.47144292\n",
      " 701.69550337 664.99682883 656.50140803 657.28888668 661.61623664\n",
      " 654.8415828  712.84527752 661.75514817 665.53130252 656.54972822\n",
      " 656.41790912 661.65732012 661.75917125 661.69527337 661.71259702\n",
      " 712.8452461  661.68778051 712.84561934 656.41201337 656.59480114\n",
      " 664.55287761 767.96520876 656.4395532  712.84275395 661.71693882\n",
      " 656.61047734 712.84435974 661.70529995 795.08308244 661.71705077\n",
      " 656.38246039 656.39087233 656.38945366 656.52360301]\n"
     ]
    }
   ],
   "source": [
    "\n",
    "\n",
    "# print the shifted intercept\n",
    "print(model.get_adjusted_alpha())\n",
    "\n"
   ]
  },
  {
   "cell_type": "code",
   "execution_count": null,
   "metadata": {
    "id": "9lw-gSueaByn"
   },
   "outputs": [],
   "source": []
  }
 ],
 "metadata": {
  "colab": {
   "name": "CNLS_prod.ipynb",
   "provenance": []
  },
  "kernelspec": {
   "display_name": "Python 3",
   "language": "python",
   "name": "python3"
  },
  "language_info": {
   "codemirror_mode": {
    "name": "ipython",
    "version": 3
   },
   "file_extension": ".py",
   "mimetype": "text/x-python",
   "name": "python",
   "nbconvert_exporter": "python",
   "pygments_lexer": "ipython3",
   "version": "3.8.6"
  }
 },
 "nbformat": 4,
 "nbformat_minor": 4
}
